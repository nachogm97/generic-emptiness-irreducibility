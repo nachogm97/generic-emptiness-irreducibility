{
 "cells": [
  {
   "cell_type": "markdown",
   "metadata": {},
   "source": [
    "# Packages"
   ]
  },
  {
   "cell_type": "code",
   "execution_count": 1,
   "metadata": {},
   "outputs": [
    {
     "name": "stdout",
     "output_type": "stream",
     "text": [
      "\r"
     ]
    }
   ],
   "source": [
    "using Oscar\n",
    "import LinearAlgebra as Lin\n",
    "import HomotopyContinuation as HC\n",
    "import Combinatorics as CB"
   ]
  },
  {
   "cell_type": "markdown",
   "metadata": {},
   "source": [
    "# Rank Condition Check"
   ]
  },
  {
   "cell_type": "markdown",
   "metadata": {},
   "source": [
    "Given $N\\in\\mathbb{Q}^{s\\times r}$ and $B\\in\\mathbb{Z}^{n\\times r}$, following function computes the rank of $N{\\rm diag}(Gp)B^{\\top}$ for a random $p\\in\\mathbb{Z}^{r-s}$. If the rank is $s$, then we may conclude that will be generically of expected dimension $n-s$ hence non-empty.  "
   ]
  },
  {
   "cell_type": "code",
   "execution_count": 2,
   "metadata": {},
   "outputs": [
    {
     "data": {
      "text/plain": [
       "compute_rank (generic function with 1 method)"
      ]
     },
     "metadata": {},
     "output_type": "display_data"
    }
   ],
   "source": [
    "function compute_rank(N::QQMatrix, B::ZZMatrix)\n",
    "    s=size(N)[1];\n",
    "    r=size(N)[2];\n",
    "    n=size(B)[1];\n",
    "    p=rand(-100:100,r-s)\n",
    "    G=nullspace(N)[2]\n",
    "    D=diagonal_matrix(G*p)\n",
    "    return rank(N*D*transpose(B))\n",
    "end"
   ]
  },
  {
   "cell_type": "code",
   "execution_count": 3,
   "metadata": {},
   "outputs": [
    {
     "data": {
      "text/html": [
       "[1 0 0 1 1 0 1 2 0; 0 1 0 0 1 0 0 1 0; 0 1 0 0 1 0 0 1 0]"
      ],
      "text/latex": [
       "\\begin{array}{ccccccccc}\n",
       "1 & 0 & 0 & 1 & 1 & 0 & 1 & 2 & 0 \\\\\n",
       "0 & 1 & 0 & 0 & 1 & 0 & 0 & 1 & 0 \\\\\n",
       "0 & 1 & 0 & 0 & 1 & 0 & 0 & 1 & 0\n",
       "\\end{array}"
      ],
      "text/plain": [
       "[1   0   0   1   1   0   1   2   0]\n",
       "[0   1   0   0   1   0   0   1   0]\n",
       "[0   1   0   0   1   0   0   1   0]"
      ]
     },
     "metadata": {},
     "output_type": "display_data"
    }
   ],
   "source": [
    "N=matrix(QQ,[1 1 1 0 0 0 0 0 0; 0 0 0 1 1 1 0 0 0; 0 0 0 0 0 0 1 1 1])\n",
    "B=matrix(ZZ,[1 0 0 1 1 0 1 2 0; 0 1 0 0 1 0 0 1 0; 0 1 0 0 1 0 0 1 0])"
   ]
  },
  {
   "cell_type": "markdown",
   "metadata": {},
   "source": [
    "The following function takes the matrices $N\\in\\mathbb{Q}^{s\\times r}$ and $B\\in\\mathbb{Z}^{n\\times r}$ as input and returns the boolean  \"true\" if all the $s\\times s$ minors of $N{\\rm diag}(Gu)B^{\\top}\\in\\mathbb{Q}[u]^{r-s}$ vanish. It returns the boolean \"false\" otherwise."
   ]
  },
  {
   "cell_type": "code",
   "execution_count": 3,
   "metadata": {},
   "outputs": [
    {
     "data": {
      "text/plain": [
       "minors_symbolic_matrix (generic function with 1 method)"
      ]
     },
     "metadata": {},
     "output_type": "display_data"
    }
   ],
   "source": [
    "function minors_symbolic_matrix(N::QQMatrix, B::ZZMatrix)\n",
    "    s=size(N)[1];\n",
    "    r=size(N)[2];\n",
    "    n=size(B)[1];\n",
    "    T,u=polynomial_ring(QQ,\"u\"=>1:r-s)\n",
    "    G=nullspace(N)[2]\n",
    "    D=diagonal_matrix(G*u)\n",
    "    A=N*D*transpose(B)\n",
    "    return all(m->iszero(m),minors(A,s))   \n",
    "end "
   ]
  },
  {
   "cell_type": "code",
   "execution_count": 4,
   "metadata": {},
   "outputs": [
    {
     "data": {
      "text/plain": [
       "symbolic_matrix (generic function with 1 method)"
      ]
     },
     "metadata": {},
     "output_type": "display_data"
    }
   ],
   "source": [
    "function symbolic_matrix(N::QQMatrix, B::ZZMatrix)\n",
    "    s=size(N)[1];\n",
    "    r=size(N)[2];\n",
    "    n=size(B)[1];\n",
    "    T,u=polynomial_ring(QQ,\"u\"=>1:r-s)\n",
    "    G=nullspace(N)[2]\n",
    "    D=diagonal_matrix(G*u)\n",
    "    A=N*D*transpose(B)\n",
    "    return A \n",
    "end "
   ]
  },
  {
   "cell_type": "markdown",
   "metadata": {},
   "source": [
    "# Computing Generic Root Count of Square Subsystems"
   ]
  },
  {
   "cell_type": "markdown",
   "metadata": {},
   "source": [
    "We create a function that takes a QQfield-vector and turns it into a Rational{Int64}-vector. We will need this to define systems and solve them using HomotopyContinuation, as QQ-field elements may not be directly multiplied by HomotopyContinuation expressions."
   ]
  },
  {
   "cell_type": "code",
   "execution_count": 5,
   "metadata": {},
   "outputs": [
    {
     "data": {
      "text/plain": [
       "toRatInt64 (generic function with 1 method)"
      ]
     },
     "metadata": {},
     "output_type": "display_data"
    }
   ],
   "source": [
    "function toRatInt64(v::QQMatrix)\n",
    "    res=Rational{Int64}[]\n",
    "    for i in 1:length(v)\n",
    "        res=push!(res,Int64(numerator(v[i]))//Int64(denominator(v[i])))\n",
    "    end\n",
    "    return res\n",
    "end "
   ]
  },
  {
   "cell_type": "markdown",
   "metadata": {},
   "source": [
    "We create a function that, given $s$ and $k$ with $k\\leq s$, returns a list of lists containing all subsets of $[s]$ with $k$ elements."
   ]
  },
  {
   "cell_type": "code",
   "execution_count": 6,
   "metadata": {},
   "outputs": [
    {
     "data": {
      "text/plain": [
       "subs (generic function with 1 method)"
      ]
     },
     "metadata": {},
     "output_type": "display_data"
    }
   ],
   "source": [
    "function subs(s::Int64,k::Int64)\n",
    "    set=1:s\n",
    "    return collect(CB.combinations(set,k))\n",
    "end"
   ]
  },
  {
   "cell_type": "markdown",
   "metadata": {},
   "source": [
    "The following function receives $N\\in \\mathbb{Q}^{s\\times r}$, $B\\in\\mathbb{Z}^{n\\times r}$ and $S\\subseteq [s]$ as input, and returns a three-entry vector. The first entry is a submatrix of $B$ containing the columns (that is, a collection of exponent vectors) that correspond to the monomials appearing in the subsystem of \n",
    "$$f=\\begin{pmatrix} f_1 \\\\f_2\\\\ \\vdots \\\\ f_s    \\end{pmatrix}=N(x^B)\\in\\mathbb{Q}[x^{\\pm}]^s $$\n",
    "given by the polynomials indexed by elements in $S$. The second entry is a list consisting of the indeces that these selected columns have in matrix $B$. The third entry is $S$."
   ]
  },
  {
   "cell_type": "code",
   "execution_count": 7,
   "metadata": {},
   "outputs": [
    {
     "data": {
      "text/plain": [
       "select_columns (generic function with 1 method)"
      ]
     },
     "metadata": {},
     "output_type": "display_data"
    }
   ],
   "source": [
    "function select_columns(N::QQMatrix,B::ZZMatrix,S::Vector{Int64})\n",
    "    lista=[]\n",
    "    k=length(S)\n",
    "    r=size(N)[2]\n",
    "    n=size(B)[1]\n",
    "       N_sub=N[S,collect(1:r)]\n",
    "       for i in 1:k\n",
    "            for l in 1:r\n",
    "                if N_sub[i,l]!=0\n",
    "                    lista=push!(lista,l)\n",
    "                end\n",
    "            end\n",
    "        end \n",
    "    list_no_rep=collect(Set(lista))\n",
    "    list_no_rep=[list_no_rep[i] for i in 1:length(list_no_rep)]\n",
    "    return [B[collect(1:n),list_no_rep],list_no_rep,S]  \n",
    "end "
   ]
  },
  {
   "cell_type": "markdown",
   "metadata": {},
   "source": [
    "The following function collects $k\\times k$ square subsystems: it receives $N\\in \\mathbb{Q}^{s\\times r}$, $B\\in\\mathbb{Z}^{n\\times r}$ and $k\\leq n$ and returns a vector of 3-entry vectors consisting of the same data as the output of select_columns(). Each 3-entry vector on this list encodes an induced $k\\times k$ square subsystem of $f$"
   ]
  },
  {
   "cell_type": "code",
   "execution_count": 8,
   "metadata": {},
   "outputs": [
    {
     "data": {
      "text/plain": [
       "induced_square_subsystems (generic function with 1 method)"
      ]
     },
     "metadata": {},
     "output_type": "display_data"
    }
   ],
   "source": [
    "function induced_square_subsystems(N::QQMatrix,B::ZZMatrix,k::Int64)\n",
    "    s=size(N)[1]\n",
    "    res=[]\n",
    "        for S in subs(s,k)\n",
    "            B_sub,L,S=select_columns(N,B,S)\n",
    "            if rank(B_sub)==k\n",
    "              res=push!(res,[B_sub,L,S])\n",
    "            end \n",
    "        end      \n",
    "        return res\n",
    "end "
   ]
  },
  {
   "cell_type": "markdown",
   "metadata": {},
   "source": [
    "The following function takes $N\\in \\mathbb{Q}^{s\\times r}$, $B\\in\\mathbb{Z}^{n\\times r}$ as input and computes all the induced square subsystems $(f_j)_{j\\in S}$ of $f$ using induced_square_subsystems():\n",
    "\n",
    "\n",
    " For each $S\\subseteq [s]$ with $|S|=k$, it makes the appropriate transformation to turn them into actual square subsystems by means of the Smith Normal Form and  returns a vector of two-entry vectors. Each one of these two-entry vectors consists of the following: \n",
    " \n",
    " -The first entry is a submatrix of $N$ comprised of the rows indexed by $S$, and the columns corresponding to the monomials involved in $(f_j)_{j\\in S}$, say they are indexed by $L\\subseteq [r]$. \n",
    " \n",
    " The transformation $\\tilde{B}\\coloneqq TB$ of $B$ satisfies that the last $n-k$ entries of the columns of $\\tilde{B}$ indexed by $L$ are all zero. \n",
    " \n",
    " -The second entry is the submatrix of $\\tilde{B}$ given by the first $k$ rows and the columns indexed by $L$."
   ]
  },
  {
   "cell_type": "code",
   "execution_count": 9,
   "metadata": {},
   "outputs": [
    {
     "data": {
      "text/plain": [
       "square_subsystems (generic function with 1 method)"
      ]
     },
     "metadata": {},
     "output_type": "display_data"
    }
   ],
   "source": [
    "function square_subsystems(N::QQMatrix,B::ZZMatrix)\n",
    "    res=[]\n",
    "    s=size(N)[1]\n",
    "    for k in 1:s\n",
    "        L=induced_square_subsystems(N,B,k)\n",
    "        for m in 1:length(L)\n",
    "             N_sub=N[L[m][3], L[m][2]]\n",
    "             P,T,D = snf_with_transform(L[m][1])\n",
    "             B_transf=Int64.(Matrix(T*B))\n",
    "             B_transf_sub=B_transf[collect(1:k), L[m][2]]\n",
    "             res=push!(res,[N_sub,B_transf_sub])\n",
    "        end\n",
    "    end \n",
    "    \n",
    "    return res\n",
    "end "
   ]
  },
  {
   "cell_type": "code",
   "execution_count": 10,
   "metadata": {},
   "outputs": [
    {
     "data": {
      "text/plain": [
       "positiveExp (generic function with 1 method)"
      ]
     },
     "metadata": {},
     "output_type": "display_data"
    }
   ],
   "source": [
    "function positiveExp(Q)\n",
    "    for i in 1:size(Q)[1]\n",
    "        if any(x -> x < 0, Q[i,:])\n",
    "            m=minimum(Q[i,:])\n",
    "            Q[i,:].=Q[i,:].+(-m)   \n",
    "        end\n",
    "    end\n",
    "    return Q\n",
    "end \n",
    "\n"
   ]
  },
  {
   "cell_type": "markdown",
   "metadata": {},
   "source": [
    "Let $P\\in \\mathbb{Q}^{k\\times r}$ and $Q\\in\\mathbb{Z}^{k\\times r}$. The following function computes the generic root count of the parametric polynomial system\n",
    "$$ P(\\kappa\\circ x^Q)\\in\\mathbb{C}[\\kappa_1,\\dots,\\kappa_r,x_1^{\\pm},\\dots,x_k^{\\pm}]^k $$\n",
    "by solving $$ P(a\\circ x^Q)\\in\\mathbb{Q}[x_1^{\\pm},\\dots,x_k^{\\pm}]^k $$\n",
    "for a random $a\\in\\mathbb{Q}^r$. "
   ]
  },
  {
   "cell_type": "code",
   "execution_count": 11,
   "metadata": {},
   "outputs": [
    {
     "data": {
      "text/plain": [
       "grc (generic function with 1 method)"
      ]
     },
     "metadata": {},
     "output_type": "display_data"
    }
   ],
   "source": [
    "function grc(P::QQMatrix,Q::Matrix{Int64})\n",
    "    if (size(P)[1]==size(Q)[1])\n",
    "        Q=positiveExp(Q)\n",
    "        k=size(Q)[1]\n",
    "        r=size(Q)[2]\n",
    "        a = HC.rand(-100:100,r)\n",
    "        P=P*diagonal_matrix(a)\n",
    "        HC.@var y[1:k]\n",
    "        f=[Lin.dot(toRatInt64(P[i,:]),[prod([y[j]^(Q[j,l]) for j in 1:k]) for l in 1:r]) for i in 1:k]\n",
    "        G=HC.System(f)\n",
    "        return length(HC.solutions(HC.solve(G,only_non_zero=true)))\n",
    "    else\n",
    "        return error(\"Error: not a square system\")\n",
    "    end \n",
    "    \n",
    "end "
   ]
  },
  {
   "cell_type": "markdown",
   "metadata": {},
   "source": [
    "The following function receives matrices $N\\in \\mathbb{Q}^{s\\times r}$, $B\\in\\mathbb{Z}^{n\\times r}$ and return a list containing the generic root count of each of the square subsystems of  \n",
    "$$ N(\\kappa\\circ x^B)\\in\\mathbb{Q}[\\kappa,x^{\\pm}]^s. $$"
   ]
  },
  {
   "cell_type": "code",
   "execution_count": 12,
   "metadata": {},
   "outputs": [
    {
     "data": {
      "text/plain": [
       "list_of_grc (generic function with 1 method)"
      ]
     },
     "metadata": {},
     "output_type": "display_data"
    }
   ],
   "source": [
    "function list_of_grc(N::QQMatrix,B::ZZMatrix)\n",
    "    res=[]\n",
    "    L=square_subsystems(N,B)\n",
    "    for i in 1:length(L)\n",
    "        res=push!(res,grc(L[i][1],L[i][2]))\n",
    "    end \n",
    "    return res\n",
    "end     "
   ]
  },
  {
   "cell_type": "markdown",
   "metadata": {},
   "source": [
    "# Irreducibility Check "
   ]
  },
  {
   "cell_type": "markdown",
   "metadata": {},
   "source": [
    "The following functions takes $N\\in\\mathbb{Q}^{s\\times r}$ and $B\\in\\mathbb{Z}^{n\\times r}$ as input and returns the polynomial system:\n",
    "$$ N (a\\circ x^{B})\\in\\mathbb{Q}[x_1^{\\pm},\\dots,x_n^{\\pm}]^s, $$\n",
    "for some random $a\\in\\mathbb{Q}^r$."
   ]
  },
  {
   "cell_type": "code",
   "execution_count": 13,
   "metadata": {},
   "outputs": [
    {
     "data": {
      "text/plain": [
       "system_OS (generic function with 1 method)"
      ]
     },
     "metadata": {},
     "output_type": "display_data"
    }
   ],
   "source": [
    "function system_OS(N::QQMatrix,B::ZZMatrix)\n",
    "    n=size(B)[1]\n",
    "    s=size(N)[1]\n",
    "    r=size(B)[2]\n",
    "    a=rand(-100:100,r)\n",
    "    N_1=Matrix(N)*Lin.diagm(a)\n",
    "    local S,x=polynomial_ring(QQ,\"x\"=>1:n)\n",
    "    f=[dot(N_1[i,collect(1:r)],([prod([x[j]^Int64(numerator(B[j,l])) for j in 1:n]) for l in 1:r])) for i in 1:s]\n",
    "    return f\n",
    "end "
   ]
  },
  {
   "cell_type": "code",
   "execution_count": 14,
   "metadata": {},
   "outputs": [
    {
     "data": {
      "text/plain": [
       "system_OS_ones (generic function with 1 method)"
      ]
     },
     "metadata": {},
     "output_type": "display_data"
    }
   ],
   "source": [
    "function system_OS_ones(N::QQMatrix,B::ZZMatrix)\n",
    "    n=size(B)[1]\n",
    "    s=size(N)[1]\n",
    "    r=size(B)[2]\n",
    "    N_1=Matrix(N)\n",
    "    local S,x=polynomial_ring(QQ,\"x\"=>1:n)\n",
    "    f=[dot(N_1[i,collect(1:r)],([prod([x[j]^Int64(numerator(B[j,l])) for j in 1:n]) for l in 1:r])) for i in 1:s]\n",
    "    return f\n",
    "end "
   ]
  },
  {
   "cell_type": "code",
   "execution_count": 15,
   "metadata": {},
   "outputs": [
    {
     "data": {
      "text/plain": [
       "system_HC (generic function with 1 method)"
      ]
     },
     "metadata": {},
     "output_type": "display_data"
    }
   ],
   "source": [
    "function system_HC(N::QQMatrix,B::ZZMatrix)\n",
    "    n=size(B)[1]\n",
    "    r=size(B)[2]\n",
    "    s=size(N)[1]\n",
    "    k=rand(-100:100,r)\n",
    "    N_1=Matrix(N)*Lin.diagm(k)\n",
    "    N_1=matrix(QQ,N_1)\n",
    "    HC.@var y[1:n]\n",
    "    f=[Lin.dot(toRatInt64(N_1[i,:]),[prod([y[j]^Int64(numerator(B[j,l])) for j in 1:n]) for l in 1:r]) for i in 1:s]\n",
    "    return HC.System(f)\n",
    "end \n"
   ]
  },
  {
   "cell_type": "markdown",
   "metadata": {},
   "source": [
    "\n",
    "The following function takes $N\\in\\mathbb{Q}^{s\\times r}$ and $B\\in\\mathbb{Z}^{n\\times r}$ as input and returns the boolean true if the ideal in $\\mathbb{C}[x^{\\pm}] $ which generated by the system\n",
    "\n",
    "$$ N (\\kappa\\circ x^{B})\\in\\mathbb{C}[x_1^{\\pm},\\dots,x_n^{\\pm}]^s $$\n",
    " is prime for generic $\\kappa\\in\\mathbb{C}^r$ and the boolean false otherwise.\n",
    "\n",
    "Only to be tested for proper ideals. The function absolute_primary_decomposition runs into problems when dealing with the unit ideal."
   ]
  },
  {
   "cell_type": "code",
   "execution_count": 16,
   "metadata": {},
   "outputs": [
    {
     "data": {
      "text/plain": [
       "irred_check (generic function with 1 method)"
      ]
     },
     "metadata": {},
     "output_type": "display_data"
    }
   ],
   "source": [
    "function irred_check(N::QQMatrix,B::ZZMatrix)\n",
    "    f=system_OS(N,B)\n",
    "    R=parent(f[1])\n",
    "    x=gens(R)\n",
    "    # I=saturation(ideal(R,f), ideal(R,prod([x[i] for i in 1:length(x)])))\n",
    "    I=ideal(R,f)\n",
    "    L=absolute_primary_decomposition(I)\n",
    "    if length(L)>1\n",
    "        return false\n",
    "    else \n",
    "        if L[1][4]!=1\n",
    "            return false\n",
    "\n",
    "        end\n",
    "    end\n",
    "    return true\n",
    "end "
   ]
  },
  {
   "cell_type": "code",
   "execution_count": 17,
   "metadata": {},
   "outputs": [
    {
     "data": {
      "text/plain": [
       "irred_check_numerical (generic function with 1 method)"
      ]
     },
     "metadata": {},
     "output_type": "display_data"
    }
   ],
   "source": [
    "function irred_check_numerical(N::QQMatrix,B::ZZMatrix)\n",
    "    @assert size(N,1)<size(B,1) \n",
    "    G=system_HC(N,B)\n",
    "    nid_result = HC.nid(G, show_progress=false)\n",
    "    if HC.n_components(nid_result) == 0\n",
    "        error(\"Found no irreducible components\")\n",
    "    elseif HC.n_components(nid_result) == 1\n",
    "        return true\n",
    "    else\n",
    "        return false\n",
    "    end\n",
    "end \n"
   ]
  },
  {
   "cell_type": "markdown",
   "metadata": {},
   "source": [
    "# Main Function"
   ]
  },
  {
   "cell_type": "markdown",
   "metadata": {},
   "source": [
    "Given matrices $N\\in\\mathbb{Q}^{s\\times r}$ and $B\\in\\mathbb{Z}^{n\\times r}$ we consider the parametric polynomial system\n",
    "\n",
    "$$ f=N (\\kappa\\circ x^{B})\\in\\mathbb{C}[\\kappa_1,\\dots,\\kappa_r,x_1^{\\pm},\\dots,x_n^{\\pm}]^s. $$\n",
    "\n",
    "We make a function that returns a message depending on whether:\n",
    "\n",
    "\n",
    "-the ideal $(f_{\\kappa})\\subseteq\\mathbb{C}[x^{\\pm}]$ is the unit ideal for generic $\\kappa\\in\\mathbb{C}^r$. If it is, it return the message \"The variety is generically empty\";\n",
    "\n",
    "-the ideal $(f_{\\kappa})\\subseteq\\mathbb{C}[x^{\\pm}]$ is prime for generic $\\kappa\\in\\mathbb{C}^r$;\n",
    "\n",
    "-the systems has square subsystems with generic root count greater than 1."
   ]
  },
  {
   "cell_type": "code",
   "execution_count": 18,
   "metadata": {},
   "outputs": [
    {
     "data": {
      "text/plain": [
       "main (generic function with 1 method)"
      ]
     },
     "metadata": {},
     "output_type": "display_data"
    }
   ],
   "source": [
    "function main(N::QQMatrix,B::ZZMatrix)\n",
    "    if compute_rank(N,B)<size(N)[1]\n",
    "        if minors_symbolic_matrix(N,B)==true\n",
    "            return  \"The variety is generically empty.\"\n",
    "        end \n",
    "    else\n",
    "        list_of_generic_root_counts=list_of_grc(N,B)\n",
    "        is_generically_irreducible=irred_check_numerical(N,B)\n",
    "        all_gcr_are_one=all(list_of_generic_root_counts.==1)\n",
    "\n",
    "        if (is_generically_irreducible && all_gcr_are_one)\n",
    "            return \"Supportive evidence that the conjecture is true: all square subsystems have generic root count 1 and the variety is generically irreducible\"\n",
    "        elseif (!(is_generically_irreducible) && !(all_gcr_are_one))\n",
    "            return \"Supportive evidence that the conjecture is true: there is a square subsystem with generic root count greater than 1 and the variety is generically reducible\"\n",
    "        elseif ((!(is_generically_irreducible) && all_gcr_are_one))\n",
    "            return \"Candidate for counterexample\" \n",
    "        elseif (is_generically_irreducible && !(all_gcr_are_one))\n",
    "            return \"Discrepancy due to the non-deterministic nature of the method\"\n",
    "        end \n",
    "    end  \n",
    "end\n"
   ]
  },
  {
   "cell_type": "markdown",
   "metadata": {},
   "source": [
    "# Example 1"
   ]
  },
  {
   "cell_type": "markdown",
   "metadata": {},
   "source": [
    "\n",
    "$$ \\begin{cases}\n",
    "     \\kappa_1x_1+\\kappa_2x_2 x_3+\\kappa_3\\\\\n",
    "     \\kappa_4x_1+\\kappa_5 x_1x_2x_3+\\kappa_6\\\\\n",
    "     \\kappa_7 x_1+ \\kappa_8 x_1^2 x_2x_3+\\kappa_9\\\\ \n",
    " \\end{cases} $$\n",
    "\n",
    " We know that the variety is generically empty. We check it computationally."
   ]
  },
  {
   "cell_type": "code",
   "execution_count": 19,
   "metadata": {},
   "outputs": [
    {
     "data": {
      "text/html": [
       "[1 0 0 1 1 0 1 2 0; 0 1 0 0 1 0 0 1 0; 0 1 0 0 1 0 0 1 0]"
      ],
      "text/latex": [
       "\\begin{array}{ccccccccc}\n",
       "1 & 0 & 0 & 1 & 1 & 0 & 1 & 2 & 0 \\\\\n",
       "0 & 1 & 0 & 0 & 1 & 0 & 0 & 1 & 0 \\\\\n",
       "0 & 1 & 0 & 0 & 1 & 0 & 0 & 1 & 0\n",
       "\\end{array}"
      ],
      "text/plain": [
       "[1   0   0   1   1   0   1   2   0]\n",
       "[0   1   0   0   1   0   0   1   0]\n",
       "[0   1   0   0   1   0   0   1   0]"
      ]
     },
     "metadata": {},
     "output_type": "display_data"
    }
   ],
   "source": [
    "N_1=matrix(QQ,[1 1 1 0 0 0 0 0 0; 0 0 0 1 1 1 0 0 0; 0 0 0 0 0 0 1 1 1])\n",
    "\n",
    "B_1=matrix(ZZ,[1 0 0 1 1 0 1 2 0; 0 1 0 0 1 0 0 1 0; 0 1 0 0 1 0 0 1 0])\n"
   ]
  },
  {
   "cell_type": "code",
   "execution_count": 20,
   "metadata": {},
   "outputs": [
    {
     "data": {
      "text/plain": [
       "\"The variety is generically empty.\""
      ]
     },
     "metadata": {},
     "output_type": "display_data"
    }
   ],
   "source": [
    "main(N_1,B_1)"
   ]
  },
  {
   "cell_type": "markdown",
   "metadata": {},
   "source": [
    "# Example 2"
   ]
  },
  {
   "cell_type": "markdown",
   "metadata": {},
   "source": [
    "\n",
    "\n",
    "$$\\begin{cases}\n",
    "     \\kappa_1x_1+\\kappa_2x_2x_3 x_4+\\kappa_3\\\\\n",
    "     \\kappa_4x_1+\\kappa_5 x_1x_2x_3x_4+\\kappa_6\\\\\n",
    "     \\kappa_7 x_3+\\kappa_8 x_4^2+\\kappa_9\\\\ \n",
    "     \\end{cases} $$\n",
    "\n",
    "We know it has only one induced square subsystem given by the first and second polynomials. And this square subsystem has generic root count 2. Since the system is freely parametrized we know that the variety will be generically reducible."
   ]
  },
  {
   "cell_type": "code",
   "execution_count": 21,
   "metadata": {},
   "outputs": [
    {
     "data": {
      "text/html": [
       "[1 0 0 1 1 0 0 0 0; 0 1 0 0 1 0 0 0 0; 0 1 0 0 1 0 1 0 0; 0 1 0 0 1 0 0 2 0]"
      ],
      "text/latex": [
       "\\begin{array}{ccccccccc}\n",
       "1 & 0 & 0 & 1 & 1 & 0 & 0 & 0 & 0 \\\\\n",
       "0 & 1 & 0 & 0 & 1 & 0 & 0 & 0 & 0 \\\\\n",
       "0 & 1 & 0 & 0 & 1 & 0 & 1 & 0 & 0 \\\\\n",
       "0 & 1 & 0 & 0 & 1 & 0 & 0 & 2 & 0\n",
       "\\end{array}"
      ],
      "text/plain": [
       "[1   0   0   1   1   0   0   0   0]\n",
       "[0   1   0   0   1   0   0   0   0]\n",
       "[0   1   0   0   1   0   1   0   0]\n",
       "[0   1   0   0   1   0   0   2   0]"
      ]
     },
     "metadata": {},
     "output_type": "display_data"
    }
   ],
   "source": [
    "N_2=matrix(QQ,[1 1 1 0 0 0 0 0 0; 0 0 0 1 1 1 0 0 0;0 0 0 0 0 0 1 1 1])\n",
    "\n",
    "B_2=matrix(ZZ,[1 0 0 1 1 0 0 0 0; 0 1 0 0 1 0 0 0 0; 0 1 0 0 1 0 1 0 0; 0 1 0 0 1 0 0 2 0])\n"
   ]
  },
  {
   "cell_type": "code",
   "execution_count": 22,
   "metadata": {},
   "outputs": [
    {
     "data": {
      "text/plain": [
       "\"Supportive evidence that the conjecture is true: there is a square subsystem with generic root count greater than 1 and the variety is generically reducible\""
      ]
     },
     "metadata": {},
     "output_type": "display_data"
    }
   ],
   "source": [
    "main(N_2,B_2)"
   ]
  },
  {
   "cell_type": "markdown",
   "metadata": {},
   "source": [
    "# Example 3"
   ]
  },
  {
   "cell_type": "markdown",
   "metadata": {},
   "source": [
    "\n",
    "\n",
    "$$\\begin{cases}\n",
    "     \\kappa_1x_1+\\kappa_2x_2x_3 x_4+\\kappa_3\\\\\n",
    "     \\kappa_4x_1+\\kappa_5 x_2x_3x_4+\\kappa_6\\\\\n",
    "     \\kappa_7 x_3+\\kappa_8 x_4^2+\\kappa_9\\\\ \n",
    "     \\end{cases} $$\n",
    "\n",
    "We know it has only one induced square subsystem given by the first and second polynomials. And this square subsystem has generic root count 1. Since the system is freely parametrized we know that the variety will be generically irreducible."
   ]
  },
  {
   "cell_type": "code",
   "execution_count": 23,
   "metadata": {},
   "outputs": [
    {
     "data": {
      "text/html": [
       "[1 0 0 1 0 0 0 0 0; 0 1 0 0 1 0 0 0 0; 0 1 0 0 1 0 1 0 0; 0 1 0 0 1 0 0 2 0]"
      ],
      "text/latex": [
       "\\begin{array}{ccccccccc}\n",
       "1 & 0 & 0 & 1 & 0 & 0 & 0 & 0 & 0 \\\\\n",
       "0 & 1 & 0 & 0 & 1 & 0 & 0 & 0 & 0 \\\\\n",
       "0 & 1 & 0 & 0 & 1 & 0 & 1 & 0 & 0 \\\\\n",
       "0 & 1 & 0 & 0 & 1 & 0 & 0 & 2 & 0\n",
       "\\end{array}"
      ],
      "text/plain": [
       "[1   0   0   1   0   0   0   0   0]\n",
       "[0   1   0   0   1   0   0   0   0]\n",
       "[0   1   0   0   1   0   1   0   0]\n",
       "[0   1   0   0   1   0   0   2   0]"
      ]
     },
     "metadata": {},
     "output_type": "display_data"
    }
   ],
   "source": [
    "N_3=matrix(QQ,[1 1 1 0 0 0 0 0 0; 0 0 0 1 1 1 0 0 0;0 0 0 0 0 0 1 1 1])\n",
    "\n",
    "B_3=matrix(ZZ,[1 0 0 1 0 0 0 0 0; 0 1 0 0 1 0 0 0 0; 0 1 0 0 1 0 1 0 0; 0 1 0 0 1 0 0 2 0])\n"
   ]
  },
  {
   "cell_type": "code",
   "execution_count": 24,
   "metadata": {},
   "outputs": [
    {
     "data": {
      "text/plain": [
       "\"Supportive evidence that the conjecture is true: all square subsystems have generic root count 1 and the variety is generically irreducible\""
      ]
     },
     "metadata": {},
     "output_type": "display_data"
    }
   ],
   "source": [
    "main(N_3,B_3)"
   ]
  },
  {
   "cell_type": "markdown",
   "metadata": {},
   "source": [
    "# Experiment for systems with no square subsystems"
   ]
  },
  {
   "cell_type": "code",
   "execution_count": 25,
   "metadata": {},
   "outputs": [
    {
     "data": {
      "text/plain": [
       "generation (generic function with 1 method)"
      ]
     },
     "metadata": {},
     "output_type": "display_data"
    }
   ],
   "source": [
    "function generation(r1::Int64,r2::Int64,r3::Int64,MaxExp::Int64,range::Int64)\n",
    "    r=r1+r2+r3\n",
    "    s=2\n",
    "    n=3\n",
    "    b_1=rand(0:MaxExp,r)\n",
    "    b_2=rand(0:MaxExp,r)\n",
    "    b_3=rand(0:MaxExp,r)\n",
    "    N=zeros(Int,2,r+2)\n",
    "    B=zeros(Int,3,r+2)\n",
    "    N[1,1]=1\n",
    "    N[2,2]=1\n",
    "    N[1,3:r1+2]=ones(Int,r1)\n",
    "    N[2,2+r1+1:2+r1+r2]=ones(Int,r2)\n",
    "    N[2,2+r1+r2+1:2+r1+r2+r3]=rand(-range:range,r3)\n",
    "    N[1,2+r1+r2+1:2+r1+r2+r3]=ones(Int,r3)\n",
    "    B[1,3:r+2]=b_1\n",
    "    B[2,3:r+2]=b_2\n",
    "    B[3,3:r+2]=b_3\n",
    "    return [matrix(QQ,N),matrix(ZZ,B)]\n",
    "end \n",
    "\n"
   ]
  },
  {
   "cell_type": "code",
   "execution_count": 26,
   "metadata": {},
   "outputs": [
    {
     "data": {
      "text/plain": [
       "no_square_subsystems_check (generic function with 1 method)"
      ]
     },
     "metadata": {},
     "output_type": "display_data"
    }
   ],
   "source": [
    "function no_square_subsystems_check(N,B) \n",
    "        if (!(rank(B)==3))\n",
    "                return false\n",
    "       else\n",
    "               f=system_OS_ones(N,B)\n",
    "               for i in 1:2\n",
    "                       exponent_vectors=collect(exponents(f[i]))\n",
    "                        if (rank(hcat(exponent_vectors...))==1)\n",
    "                                return false\n",
    "                        end\n",
    "               end \n",
    "\n",
    "       end \n",
    "\n",
    "       return true\n",
    "end\n"
   ]
  },
  {
   "cell_type": "code",
   "execution_count": 27,
   "metadata": {},
   "outputs": [
    {
     "data": {
      "text/plain": [
       "test (generic function with 1 method)"
      ]
     },
     "metadata": {},
     "output_type": "display_data"
    }
   ],
   "source": [
    "function test(r1::Int64,r2::Int64,r3::Int64,MaxExp::Int64,range::Int64,m::Int64)\n",
    "    for i in 1:m\n",
    "        L=generation(r1,r2,r3,MaxExp,range)\n",
    "          if (compute_rank(L[1],L[2])==size(L[1])[1])\n",
    "            if no_square_subsystems_check(L[1],L[2])\n",
    "                if (irred_check_numerical(L[1],L[2])==false)\n",
    "                    return [L[1],L[2]]\n",
    "                end\n",
    "            end\n",
    "        end\n",
    "    end \n",
    "return \"No candidate for counterexample found\"\n",
    "end "
   ]
  },
  {
   "cell_type": "code",
   "execution_count": 29,
   "metadata": {},
   "outputs": [
    {
     "data": {
      "text/plain": [
       "2-element Vector{MatElem}:\n",
       " [1 0 1 1 0 0 1 1; 0 1 0 0 1 1 -6 -9]\n",
       " [0 0 2 1 1 0 2 1; 0 0 1 0 1 1 1 2; 0 0 2 1 1 1 2 0]"
      ]
     },
     "metadata": {},
     "output_type": "display_data"
    }
   ],
   "source": [
    "L=test(2,2,2,2,10,20)"
   ]
  },
  {
   "cell_type": "code",
   "execution_count": 30,
   "metadata": {},
   "outputs": [
    {
     "data": {
      "text/plain": [
       "true"
      ]
     },
     "metadata": {},
     "output_type": "display_data"
    }
   ],
   "source": [
    "irred_check(L[1],L[2])"
   ]
  },
  {
   "cell_type": "code",
   "execution_count": 31,
   "metadata": {},
   "outputs": [
    {
     "data": {
      "text/plain": [
       "true"
      ]
     },
     "metadata": {},
     "output_type": "display_data"
    }
   ],
   "source": [
    "irred_check_numerical(L[1],L[2])"
   ]
  }
 ],
 "metadata": {
  "kernelspec": {
   "display_name": "Julia 1.9.3",
   "language": "julia",
   "name": "julia-1.9"
  },
  "language_info": {
   "file_extension": ".jl",
   "mimetype": "application/julia",
   "name": "julia",
   "version": "1.9.3"
  }
 },
 "nbformat": 4,
 "nbformat_minor": 2
}
